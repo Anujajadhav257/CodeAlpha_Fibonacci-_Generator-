{
 "cells": [
  {
   "cell_type": "markdown",
   "id": "729cbf8b",
   "metadata": {},
   "source": [
    "#  Python project for a Fibonacci generator......"
   ]
  },
  {
   "cell_type": "markdown",
   "id": "5dac8768",
   "metadata": {},
   "source": [
    "The generate_fibonacci function computes the Fibonacci sequence iteratively.\n",
    "The user inputs the desired number of terms, and the program generates and displays the sequence."
   ]
  },
  {
   "cell_type": "markdown",
   "id": "32092a9c",
   "metadata": {},
   "source": [
    "The Fibonacci sequence is a series of numbers where each subsequent term is the sum of the previous two terms. The first two terms are initialized to 1, and the sequence starts as follows: 1, 1, 2, 3, 5, 8, 13, 21, …"
   ]
  },
  {
   "cell_type": "markdown",
   "id": "1b01f5ba",
   "metadata": {},
   "source": [
    "To create a Fibonacci generator in Python, we’ll use the concept of generators. A generator is a function that produces values one at a time, preserving its state between calls. Instead of computing all Fibonacci numbers at once, a generator yields the next number in the sequence each time it’s called.\n"
   ]
  },
  {
   "cell_type": "code",
   "execution_count": 15,
   "id": "49f39748",
   "metadata": {},
   "outputs": [
    {
     "name": "stdout",
     "output_type": "stream",
     "text": [
      "Enter the number of Fibonacci terms to generate: a\n",
      "Invalid input. Please enter a positive integer.\n"
     ]
    }
   ],
   "source": [
    "def generate_fibonacci(n):\n",
    "    \"\"\"\n",
    "      Generates the first 'n' terms of the Fibonacci sequence.\n",
    "    \"\"\"\n",
    "    fib_sequence = [0, 1] # Initialize with the first two terms\n",
    "    \n",
    "    while len(fib_sequence) < n:\n",
    "        \n",
    "        next_term = fib_sequence[-1] + fib_sequence[-2]\n",
    "        fib_sequence.append(next_term)\n",
    "        \n",
    "    return fib_sequence\n",
    "\n",
    "def main():\n",
    "    \n",
    "    try:\n",
    "        \n",
    "        num_terms = int(input(\"Enter the number of Fibonacci terms to generate: \"))\n",
    "        if num_terms <= 0:\n",
    "            \n",
    "            print(\"Please enter a positive integer.\")\n",
    "            return\n",
    "        \n",
    "        fibonacci_result = generate_fibonacci(num_terms)\n",
    "        print(f\"The first {num_terms} terms of the Fibonacci sequence:\")\n",
    "        print(fibonacci_result)\n",
    "    except ValueError:\n",
    "        print(\"Invalid input. Please enter a positive integer.\")\n",
    "        \n",
    "if __name__ == \"__main__\":\n",
    " main()"
   ]
  },
  {
   "cell_type": "raw",
   "id": "0d9ddb73",
   "metadata": {},
   "source": [
    "In this code\n",
    "\n",
    "[generate_fibonacci(n)] Function:\n",
    "\n",
    "This function takes an integer n as input, representing the number of Fibonacci terms to generate.\n",
    "It initializes a list called fib_sequence with the first two terms of the Fibonacci sequence: [0, 1].\n",
    "Using a while loop, it continues adding terms to fib_sequence until its length reaches n.\n",
    "The next term is calculated by adding the last two terms in the sequence.\n",
    "The function returns the complete fib_sequence.\n",
    "\n",
    "[main()] Function:\n",
    "\n",
    "This function is the entry point of the program.\n",
    "It prompts the user to input the number of Fibonacci terms they want to generate.\n",
    "If the input is not a positive integer, it displays an error message.\n",
    "Otherwise, it calls generate_fibonacci(num_terms) to compute the sequence and prints the result."
   ]
  },
  {
   "cell_type": "code",
   "execution_count": null,
   "id": "570b01df",
   "metadata": {},
   "outputs": [],
   "source": []
  },
  {
   "cell_type": "markdown",
   "id": "55b46318",
   "metadata": {},
   "source": [
    "# Here's two types of Fibonacci generator"
   ]
  },
  {
   "cell_type": "markdown",
   "id": "f0f1031e",
   "metadata": {},
   "source": [
    "### Finite Fibonacci Generator:"
   ]
  },
  {
   "cell_type": "code",
   "execution_count": 21,
   "id": "b934fb5c",
   "metadata": {},
   "outputs": [
    {
     "name": "stdout",
     "output_type": "stream",
     "text": [
      "1\n",
      "1\n",
      "2\n",
      "3\n",
      "5\n",
      "8\n",
      "13\n",
      "21\n",
      "34\n",
      "55\n"
     ]
    }
   ],
   "source": [
    "def fibonacci():\n",
    "    a = 0\n",
    "    b = 1\n",
    "    for _ in range(6):  # Change the range as needed\n",
    "        print(b)\n",
    "        a, b = b, a + b\n",
    "\n",
    "obj = fibonacci()"
   ]
  },
  {
   "cell_type": "markdown",
   "id": "645fb512",
   "metadata": {},
   "source": [
    "The fibonacciGenerator() function uses the yield keyword instead of return.\n",
    "It generates Fibonacci numbers one by one when called.\n",
    "The generator preserves its state, so it continues from where it left off.\n",
    "The while True loop ensures that the generator keeps yielding numbers indefinitely."
   ]
  },
  {
   "cell_type": "markdown",
   "id": "eb7a3e7a",
   "metadata": {},
   "source": [
    "### Infinite Fibonacci Generator:"
   ]
  },
  {
   "cell_type": "code",
   "execution_count": 19,
   "id": "a66203e0",
   "metadata": {},
   "outputs": [
    {
     "name": "stdout",
     "output_type": "stream",
     "text": [
      "1\n",
      "1\n",
      "2\n",
      "3\n"
     ]
    }
   ],
   "source": [
    "def fibonacciGenerator():\n",
    "    a = 0\n",
    "    b = 1\n",
    "    while True:\n",
    "        yield b\n",
    "        a, b = b, a + b\n",
    "\n",
    "obj = fibonacciGenerator()\n",
    "print(next(obj))  # 1\n",
    "print(next(obj))  # 1\n",
    "print(next(obj))  # 2\n",
    "print(next(obj))  # 3\n",
    "# Continue calling next(obj) to get more Fibonacci numbers"
   ]
  },
  {
   "cell_type": "markdown",
   "id": "f9c2f5cf",
   "metadata": {},
   "source": [
    "In this Code the fibonacci() function prints the first 6 Fibonacci numbers. However, instead of using a function, we can create a Python generator to yield the next number from the sequence each time it’s called. We use the yield keyword instead of return in the generator function."
   ]
  },
  {
   "cell_type": "markdown",
   "id": "add317f4",
   "metadata": {},
   "source": [
    "The infinite generator uses a while loop with a condition that always holds true (True). Each call to next(obj) returns the next Fibonacci number. The generator preserves its state, so it continues from where it left off."
   ]
  },
  {
   "cell_type": "code",
   "execution_count": null,
   "id": "aa7230ad",
   "metadata": {},
   "outputs": [],
   "source": []
  }
 ],
 "metadata": {
  "kernelspec": {
   "display_name": "Python 3 (ipykernel)",
   "language": "python",
   "name": "python3"
  },
  "language_info": {
   "codemirror_mode": {
    "name": "ipython",
    "version": 3
   },
   "file_extension": ".py",
   "mimetype": "text/x-python",
   "name": "python",
   "nbconvert_exporter": "python",
   "pygments_lexer": "ipython3",
   "version": "3.9.13"
  }
 },
 "nbformat": 4,
 "nbformat_minor": 5
}
